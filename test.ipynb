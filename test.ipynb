{
 "cells": [
  {
   "cell_type": "code",
   "execution_count": 1,
   "metadata": {},
   "outputs": [
    {
     "data": {
      "text/plain": [
       "'EEG_Feat = np.load(\\'ClassicFeatures/chb01_classicfeatures_seizure_EEGwindow_1.npz\\')\\nEEG_GT  = pd.read_parquet(\\'Metadata/chb01_seizure_metadata_1.parquet\\')[\\'class\\'].values\\nEEG_Feat = EEG_Feat[\"EEG_Feat\"]'"
      ]
     },
     "execution_count": 1,
     "metadata": {},
     "output_type": "execute_result"
    }
   ],
   "source": [
    "import numpy as np\n",
    "import pandas as pd\n",
    "import os\n",
    "\"\"\"EEG_Feat = np.load('ClassicFeatures/chb01_classicfeatures_seizure_EEGwindow_1.npz')\n",
    "EEG_GT  = pd.read_parquet('Metadata/chb01_seizure_metadata_1.parquet')['class'].values\n",
    "EEG_Feat = EEG_Feat[\"EEG_Feat\"]\"\"\""
   ]
  },
  {
   "cell_type": "code",
   "execution_count": 10,
   "metadata": {},
   "outputs": [],
   "source": [
    "feat_path= \"ClassicFeatures/\"\n",
    "gt_path = \"Metadata/\""
   ]
  },
  {
   "cell_type": "code",
   "execution_count": 11,
   "metadata": {},
   "outputs": [],
   "source": [
    "gt_list = os.listdir(gt_path)\n",
    "feat_list = os.listdir(feat_path)\n",
    "EEG_Feat = []\n",
    "EEG_GT = []\n",
    "for gt, feat in zip(gt_list, feat_list):\n",
    "    EEG_Feat.append(np.load(feat_path+feat)[\"EEG_Feat\"])\n",
    "    EEG_GT.append(pd.read_parquet(gt_path+gt)['class'].values)\n",
    "\n",
    "\n"
   ]
  },
  {
   "cell_type": "code",
   "execution_count": 12,
   "metadata": {},
   "outputs": [],
   "source": [
    "from sklearn.svm import SVC\n",
    "svm=SVC(class_weight='balanced',C=0.01,kernel='rbf')"
   ]
  },
  {
   "cell_type": "code",
   "execution_count": 13,
   "metadata": {},
   "outputs": [],
   "source": [
    "# Folds preserving proportion of classes in test set\n",
    "from sklearn.model_selection import StratifiedKFold\n",
    "skf = StratifiedKFold(n_splits=10)\n",
    "# iteration over folds\n",
    "for gt, ft in zip(EEG_GT, EEG_Feat):\n",
    "    for idxtr, idxts in skf.split(np.arange(len(gt)), gt):\n",
    "        # Train model\n",
    "        X_train=ft[idxtr[0::2],:]\n",
    "        X_test = ft[idxts[0::2],:]\n",
    "        #X=X[:,ChannelSelection,:]\n",
    "        X_test=np.reshape(X,(X.shape[0],X.shape[1]*X.shape[2]))\n",
    "        y_train=gt[idxtr[0::2]]\n",
    "        y_test=gt[idxts[0::2]]\n",
    "        svm.fit(X_train,y_train)\n",
    "        #print(svm.predict(X))\n",
    "    "
   ]
  }
 ],
 "metadata": {
  "kernelspec": {
   "display_name": "Python 3.9.13 ('opencv')",
   "language": "python",
   "name": "python3"
  },
  "language_info": {
   "codemirror_mode": {
    "name": "ipython",
    "version": 3
   },
   "file_extension": ".py",
   "mimetype": "text/x-python",
   "name": "python",
   "nbconvert_exporter": "python",
   "pygments_lexer": "ipython3",
   "version": "3.9.13"
  },
  "orig_nbformat": 4,
  "vscode": {
   "interpreter": {
    "hash": "4c6028fa4a5db639a7d57a2b35a98325c124a002b59a21f7079bc865449e70f8"
   }
  }
 },
 "nbformat": 4,
 "nbformat_minor": 2
}
